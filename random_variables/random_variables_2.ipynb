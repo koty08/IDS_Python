{
  "cells": [
    {
      "cell_type": "markdown",
      "metadata": {
        "id": "VjwU7EPyKd4i"
      },
      "source": [
        "# 확률 계산하기\n",
        "\n",
        "1. T1~T5의 확률 문제를 분석하여 문제 해결과 관련한 확률 변수/분포를 파악하라.\n",
        "1. [scipy.stats](https://docs.scipy.org/doc/scipy/reference/stats.html) package를 활용하여 주어진 문제에서 요구하는 확률 값을 계산하는 코드를 작성하라.\n",
        "1. 계산 결과를 Google Form 형식 퀴즈의 답으로 입력하라 "
      ]
    },
    {
      "cell_type": "markdown",
      "metadata": {
        "id": "AfWkS101PMVp"
      },
      "source": [
        "## T1. 생일이 같은 사람이 존재할 확률 계산하기\n",
        "* $N$명의 사람으로 이뤄진 모임이 있다.\n",
        "* 모임의 사람들의 생일간에는 특별한 연관성이 없다고 가정한다. \n",
        "* 즉 어떤 사람의 생일은 1년 366일 (2월 29일도 포함) 중 하루를 모두 같은 확률 (1/366)로 가진다.\n",
        "\n",
        "1.   $N=10$인 모임에서 생일이 같은 사람이 존재할 확률은 얼마나 되나?\n",
        "2.  $N$이 몇 명 이상(Equal or Greater than)이면 생일이 같은 사람이 존재할 확률이 50% 이상이 될까? \n",
        "\n",
        "필요하다면 scipy.special package의 [perm](https://docs.scipy.org/doc/scipy/reference/generated/scipy.special.perm.html#scipy.special.perm) (순열, Permutation), [comb](https://docs.scipy.org/doc/scipy/reference/generated/scipy.special.comb.html#scipy.special.comb) (조합, Combination) 함수를 사용하라.\n",
        "\n",
        "---\n",
        "* 우선 $N$명의 사람들에게 번호를 1번부터 $N$번까지 부여하자.\n",
        "* 1번이 가질 수 있는 생일의 경우의 수는 366, 2번이 가질 수 있는 생일의 경우의 수도 366, ...\n",
        "* $N$명의 사람들이 가질 수 있는 모든 생일의 경우의 수는 $366^N$. \n",
        "* $N$명의 사람들이 모두 서로 다른 생일을 가진다면\n",
        ">* 1번에 대해 가능한 생일의 경우의 수 : 366\n",
        ">* 2번에 대해 가능한 생일은, 1번의 생일을 제외하여야 하므로 366-1 : 365\n",
        ">* ...\n",
        ">* $P(366,N) = \\frac{366!}{(366-N)!}$\n",
        "* N명의 사람들이 모두 다른 생일을 가질 확률은 $\\therefore \\frac{P(366,N)}{366^N}$"
      ]
    },
    {
      "cell_type": "code",
      "execution_count": null,
      "metadata": {
        "colab": {
          "base_uri": "https://localhost:8080/"
        },
        "id": "RQnLqwGcOFDG",
        "outputId": "6fee7399-dc8f-4728-db27-f579aa39be38"
      },
      "outputs": [
        {
          "name": "stdout",
          "output_type": "stream",
          "text": [
            "N=1, Prob(At least, a pair of people have the same birthday) = 0.000\n",
            "N=2, Prob(At least, a pair of people have the same birthday) = 0.003\n",
            "N=3, Prob(At least, a pair of people have the same birthday) = 0.008\n",
            "N=4, Prob(At least, a pair of people have the same birthday) = 0.016\n",
            "N=5, Prob(At least, a pair of people have the same birthday) = 0.027\n",
            "N=6, Prob(At least, a pair of people have the same birthday) = 0.040\n",
            "N=7, Prob(At least, a pair of people have the same birthday) = 0.056\n",
            "N=8, Prob(At least, a pair of people have the same birthday) = 0.074\n",
            "N=9, Prob(At least, a pair of people have the same birthday) = 0.094\n",
            "N=10, Prob(At least, a pair of people have the same birthday) = 0.117\n",
            "N=11, Prob(At least, a pair of people have the same birthday) = 0.141\n",
            "N=12, Prob(At least, a pair of people have the same birthday) = 0.167\n",
            "N=13, Prob(At least, a pair of people have the same birthday) = 0.194\n",
            "N=14, Prob(At least, a pair of people have the same birthday) = 0.223\n",
            "N=15, Prob(At least, a pair of people have the same birthday) = 0.252\n",
            "N=16, Prob(At least, a pair of people have the same birthday) = 0.283\n",
            "N=17, Prob(At least, a pair of people have the same birthday) = 0.314\n",
            "N=18, Prob(At least, a pair of people have the same birthday) = 0.346\n",
            "N=19, Prob(At least, a pair of people have the same birthday) = 0.378\n",
            "N=20, Prob(At least, a pair of people have the same birthday) = 0.411\n",
            "N=21, Prob(At least, a pair of people have the same birthday) = 0.443\n",
            "N=22, Prob(At least, a pair of people have the same birthday) = 0.475\n",
            "N=23, Prob(At least, a pair of people have the same birthday) = 0.506\n",
            "N=24, Prob(At least, a pair of people have the same birthday) = 0.537\n",
            "N=25, Prob(At least, a pair of people have the same birthday) = 0.568\n",
            "N=26, Prob(At least, a pair of people have the same birthday) = 0.597\n",
            "N=27, Prob(At least, a pair of people have the same birthday) = 0.626\n",
            "N=28, Prob(At least, a pair of people have the same birthday) = 0.653\n",
            "N=29, Prob(At least, a pair of people have the same birthday) = 0.680\n"
          ]
        }
      ],
      "source": [
        "import numpy as np\n",
        "import scipy.special as sp\n",
        "\n",
        "N=np.arange(1,30)\n",
        "\n",
        "P_all_different = sp.perm(366,N)/(366.0**N)\n",
        "\n",
        "for i in range(len(N)) :\n",
        "  print(f\"N={i+1}, Prob(At least, a pair of people have the same birthday) = {1-P_all_different[i]:.3f}\")"
      ]
    },
    {
      "cell_type": "markdown",
      "metadata": {
        "id": "vmZ0H_EPSw50"
      },
      "source": [
        "## T2. 주사위 던지기 확률 계산하기\n",
        "* 주사위를 100번 던져 6이 나오는 횟수와 관련한 확률을 구하려 한다.\n",
        "1. 6이 나오는 횟수가 20번 이상일 확률은 얼마인가?\n",
        "1. 6이 나오는 횟수가 5번 이하일 확률은 얼마인가?\n",
        "\n",
        "필요하다면 [scipy.stats](https://docs.scipy.org/doc/scipy/reference/stats.html) package의 확률분포 함수를 사용하라.\n",
        "\n",
        "---\n",
        "* **이하 문제들은 확률 문제에 대한 1) 기초 모델링 역량, 그리고 모델링에 따른 2) 확률 값 계산 역량을 묻는 것이다** \n",
        "* 이 문제는 $n=100, p=1/6$인 Binomial Random Variable로 모델링할 수 있다.\n",
        "* 확률 계산을 위해서는 Discrete Random Variable의 경우 PMF를 이용하는 것이 일반적이며 Continuous Random Variable의 경우 CDF를 이용하는 것이 일반적이다.\n",
        "* 우리가 이용하는 Scipy.stats Library의 경우 Discrete R.V에 대해 pmf(), cdf()를 Continuous R.V에 대해 cdf(), pdf()를 제공한다.\n",
        "\n",
        "1. 6이 나오는 횟수가 20번 이상일 확률\n",
        ">* $Pr(X \\geq 20) = 1 - \\sum_{k=0}^{19} P_X(k)$\n",
        ">* $P_X(k)$는 pmf() \n",
        ">* Numpy에서는 가능한 Vectorization을 활용하는 코드를 짜기 위해 노력, 즉 for, while 등의 loop을 가능한 사용하지 않도록. \n",
        "2. 6이 나오는 횟수가 5번 이하일 확류\n",
        ">* $Pr(X \\leq 5) = \\sum_{k=0}^{5} P_X(k)$\n",
        ">* 아래 코드에서 포함해 두었듯이 Discrete Random Variable이지만 pmf()가 아닌 cdf()를 이용하여 문제를 풀수도 있다. 실제 코드 상으로는 더 간단하다. 다만 Discreter Random Variable의 경우 cdf()가 continuous가 아닌 점, 기준 값의 포함 여부에 대해 혼동이 있을 수 있는 점 등에 유의하여야 한다. \n"
      ]
    },
    {
      "cell_type": "code",
      "execution_count": null,
      "metadata": {
        "colab": {
          "base_uri": "https://localhost:8080/"
        },
        "id": "iVTJmNlLSwXB",
        "outputId": "0fb5b9e6-1f46-4428-de5a-e0caf9e12486"
      },
      "outputs": [
        {
          "name": "stdout",
          "output_type": "stream",
          "text": [
            "Pr(X >= 20)= 0.21974984306262046\n",
            "Pr(X <=  5)= 0.0003849232800486668\n"
          ]
        }
      ],
      "source": [
        "import scipy.stats as stats\n",
        "\n",
        "# Binomial Random Variable/Distribution\n",
        "n, p = 100, 1/6\n",
        "rv = stats.binom(n,p)\n",
        "\n",
        "# Pr(X >= 20)\n",
        "Ks = np.arange(20)  # [0, 1, 2, ..., 19]\n",
        "print(f\"Pr(X >= 20)= {1-sum(rv.pmf(Ks))}\")\n",
        "#print(1-rv.cdf(19)) # cdf() \n",
        "\n",
        "# Pr(X <= 5)\n",
        "Ks = np.arange(6)  # [0, 1, 2, ..., 5]\n",
        "print(f\"Pr(X <=  5)= {sum(rv.pmf(Ks))}\")\n",
        "#print(rv.cdf(5))  # cdf()"
      ]
    },
    {
      "cell_type": "markdown",
      "metadata": {
        "id": "ftLz1WfKY3Nl"
      },
      "source": [
        "## T3. A형 간염 보균자 확률 계산하기\n",
        "* 부산대학교 병원은 오랜 기간의 임상 조사와 분석을 통해 한국인의 A형 간염 보균과 관련한 특성을 얻었다.\n",
        "* 결과에 따르면 한국인 10,000명당 평균 16명이 A형 간염균을 가지고 있는 것으로 파악되었다.\n",
        "* 부산대학교 병원은 부산대학교 정보컴퓨터공학부에 재학 중인 학생 1,000명에 대해 A형 간염 보균 여부를 확인하는 검사를 시행할 계획이다.\n",
        "\n",
        "1.  검사 결과 1,000명의 학생 중 A형 간염 보균자가 없을 (0명) 확률은 얼마인가?\n",
        "1. 1,000명의 학생 중 A형 간염 보균자의 수가 5명 이상일 확률은 얼마인가?\n",
        "\n",
        "---\n",
        "\n",
        "Poisson Distribution을 적용하는 전형적인 사례이다.\n",
        ">* Poisson은 이벤트가 Random하게 발생하는데 이벤트들 간의 관계가 독립(Independent)이며 그 발생 빈도의 평균이 알려져 있는 확률 문제에서 **이벤트의 발생 횟수**를 모델링 할 때 주로 쓰인다.\n",
        ">* Poisson이 아닌 Binomial을 적용? 물론 가능하다. 사실 Poisson은 Binomial의 limiting case로 유도된 것이다. Poisson 근사화는 계산이 쉽지 않던 시대(컴퓨터가 없던 시대)에 계산의 복잡도를 상당 부분 줄여줬다. 물론 고속 연산의 시대에 살고 있어 $0.0016^{995}$와 같은 계산이 아무것도 아니라고 생각하는 사람들에게는 Poisson이 더 어렵게 인식될 수 있다.\n",
        "\n",
        "\n",
        "* Poisson으로 Modeling할 때 핵심은 인자 $\\lambda$이다. 10,000 명당 평균 16명이라고 했는데 대상의 크기가 1,000이므로 $\\lambda = 1.6$인 Poisson R.V $X \\sim Poisson(\\lambda=1.6)$로 모델링하면 된다. \n",
        "\n",
        "1.  A형 간염 보균자가 없을 (0명) 확률\n",
        ">* $P_X(0)$\n",
        "\n",
        "1. A형 간염 보균자의 수가 5명 이상일 확률\n",
        ">* $Pr(X\\geq 5) = 1-\\sum_{k=0}^{4} P_X(k)$\n"
      ]
    },
    {
      "cell_type": "code",
      "execution_count": null,
      "metadata": {
        "colab": {
          "base_uri": "https://localhost:8080/"
        },
        "id": "Sms8DzIza2vP",
        "outputId": "d2414e85-f1f8-4f6f-d3ec-6366c885305f"
      },
      "outputs": [
        {
          "name": "stdout",
          "output_type": "stream",
          "text": [
            "Pr(X =  0)= 0.20189651799465538\n",
            "Pr(X >= 5)= 0.023682278049311556\n",
            "0.023682278049311667\n"
          ]
        }
      ],
      "source": [
        "import numpy as np\n",
        "import scipy.stats as stats\n",
        "\n",
        "# Poisson Random Variable with lambda = 1.6\n",
        "Rate = 1.6\n",
        "rv = stats.poisson(Rate)\n",
        "\n",
        "# Pr(X = 0)\n",
        "print(f\"Pr(X =  0)= {rv.pmf(0)}\")\n",
        "\n",
        "# Pr(X >= 5)\n",
        "Ks = np.arange(5)  # [0, 1, 2, ..., 4]\n",
        "print(f\"Pr(X >= 5)= {1-sum(rv.pmf(Ks))}\")\n",
        "#print(1-rv.cdf(4))  # cdf()"
      ]
    },
    {
      "cell_type": "markdown",
      "metadata": {
        "id": "mM6bhymtWufB"
      },
      "source": [
        "## T4. 콜센터(Call Center) 통화 시간 길이 확률 계산하기\n",
        "* 어떤 금융 회사 콜 센터(Call Center)는 오랜 기간의 경험과 기록 분석을 통해 고객 서비스를 위한 통화 시간 길이의 특성을 얻었다\n",
        "* 분석 결과 고객 서비스를 위한 통화 시간은 서로 독립이며 (Independent)\n",
        " 그 길이는 평균이 4 분(minute)인 지수 분포(Exponential Distribution)의 특성을 가지고 있었다.\n",
        "\n",
        " 1. 어떤 고객과의 통화가 1분 이내에 끝날 확률은 얼마인가 ?\n",
        " 1. 어떤 고객과의 통화가 8분 이상 걸릴 확률은 얼마인가? \n",
        "\n",
        "---\n",
        "* Exponential Distribution으로 모델링하는 전형적 사례이다.\n",
        ">* 핵심 인자 $\\lambda$의 설정이 중요하다. Discrete Random Variable Poisson()과 Continuous Random Variable Exponential()은 모두 Poisson Process의 모델링에 쓰인다. Poisson()은 Event의 발생 횟수를, Exponential()은 Event간의 시간을 모델링할 때 쓰인다.\n",
        ">* Event의 평균 발생 빈도가 $\\lambda$라면 Poisson()의 평균은 $\\lambda$이지만 Exponential()의 평균은 $1/\\lambda$이다.\n",
        ">* 문제에서 통화 시간의 평균, 즉 Exponential의 평균이 4분이라고 했으므로 $1/\\lambda = 4$이다. Scipy.stats.expon() 함수 호출 시 scale = $1/\\lambda=4$ 가 되어야 한다. (HW 04-1. T5 참조)\n",
        "\n",
        "* Exponential은 Continuous Random Variable로서 pmf() $( P_X (k))$라는 개념을 적용할 수 없다. 확률 계산을 위해서는 cdf() $( F_X (x))$의 사용이 필요하다.\n",
        "\n",
        "1. 통화가 1분 이내에 끝날 확률 ?\n",
        ">* $Pr(X \\leq 1) = F_X (1)$\n",
        "\n",
        "1. 통화가 8분 이상 걸릴 확률 ?  \n",
        ">* $Pr(X \\geq 8) = 1-F_X (8)$"
      ]
    },
    {
      "cell_type": "code",
      "execution_count": null,
      "metadata": {
        "colab": {
          "base_uri": "https://localhost:8080/"
        },
        "id": "UbT8kut1bjD0",
        "outputId": "baaaf2a1-6ecf-44a1-b762-b6b849f5be96"
      },
      "outputs": [
        {
          "name": "stdout",
          "output_type": "stream",
          "text": [
            "Pr(X <= 1)= 0.22119921692859515\n",
            "Pr(X >= 8)= 0.1353352832366127\n"
          ]
        }
      ],
      "source": [
        "import scipy.stats as stats\n",
        "\n",
        "# Exponential Random Variable with lambda = 1/4\n",
        "Rate = 1/4\n",
        "rv = stats.expon(scale = 1/Rate)\n",
        "\n",
        "# Pr(X <= 1)\n",
        "print(f\"Pr(X <= 1)= {rv.cdf(1)}\")\n",
        "\n",
        "# Pr(X >= 8)\n",
        "print(f\"Pr(X >= 8)= {1-rv.cdf(8)}\")"
      ]
    },
    {
      "cell_type": "markdown",
      "metadata": {
        "id": "TLLDudM1joP9"
      },
      "source": [
        "##T5. IQ 확률 계산하기\n",
        "*  어떤 [조사](https://www.healthline.com/health/average-iq)에 따르면 한국인의 IQ는 평균이 106이라고 한다\n",
        "* IQ 값의 정규(Normal/Gaussian) 분포를 따르며 표준 편차는 15 정도인 것으로 파악된다.\n",
        "\n",
        "1. 임의로 선정한 어떤 한국인의 IQ 값이 120 이하일 확률은 얼마인가?\n",
        "2. 임의로 선정한 어떤 한국인의 IQ 값이 135 이상일 확률은 얼마인가?\n",
        "3. IQ 값이 상위 1%인 한국인은 IQ가 얼마보다 높아야 할까? (결과가 정수가 아닐 경우 반올림하여 답을 적어라)\n",
        "\n",
        "scipy.stats package는 분포에 대해 pmf/pdf, cdf 외에도 ppf() - percent point function - 라는 함수를 제공한다. ppf()는 cdf의 역함수이다. 예를 들어 CDF(x) =  0.9 (즉 Pr(X <= x) = 90%)인 x 값은 PPF(0.9)를 통해 구할 수 있다. \n",
        "\n",
        "---\n",
        "* Normal/Gaussian으로 Modeling한다. 인자 $\\mu = 106, \\sigma=15$로 주어졌다.\n",
        "\n",
        "1. IQ 값이 120 이하일 확률?\n",
        ">* $Pr(X\\leq 120) = F_X (120)$\n",
        "\n",
        "2. IQ 값이 135 이상일 확률?\n",
        ">* $Pr(X\\geq 135) = 1 - F_X (135)$\n",
        "\n",
        "3. IQ 값이 상위 1%인 한국인은 IQ가 얼마보다 높아야 할까? \n",
        ">* ppf() 이용\n"
      ]
    },
    {
      "cell_type": "code",
      "execution_count": null,
      "metadata": {
        "colab": {
          "base_uri": "https://localhost:8080/"
        },
        "id": "vVQhdedemIjS",
        "outputId": "c7eebf6a-38c6-4fd4-9dd9-0c847bd6d994"
      },
      "outputs": [
        {
          "name": "stdout",
          "output_type": "stream",
          "text": [
            "Pr(X <= 120)= 0.8246760551477705\n",
            "Pr(X >= 135)= 0.026597574021009596\n",
            "Pr(X >= 140.8952181106126)=0.01\n"
          ]
        }
      ],
      "source": [
        "import scipy.stats as stats\n",
        "\n",
        "# Normal Random Variable with mu=106, sigma=15\n",
        "mu, sigma = 106, 15\n",
        "rv = stats.norm(mu, sigma)\n",
        "\n",
        "# Pr(X <= 120)\n",
        "print(f\"Pr(X <= 120)= {rv.cdf(120)}\")\n",
        "\n",
        "# Pr(X >= 135)\n",
        "print(f\"Pr(X >= 135)= {1-rv.cdf(135)}\")\n",
        "\n",
        "# Pr(X >= x) = 0.01, Find x\n",
        "print(f\"Pr(X >= {rv.ppf(0.99)})=0.01\")"
      ]
    }
  ],
  "metadata": {
    "colab": {
      "collapsed_sections": [],
      "name": "IDS HW 04-2 답안 예.ipynb",
      "provenance": [],
      "toc_visible": true
    },
    "kernelspec": {
      "display_name": "Python 3",
      "name": "python3"
    },
    "language_info": {
      "name": "python"
    }
  },
  "nbformat": 4,
  "nbformat_minor": 0
}
