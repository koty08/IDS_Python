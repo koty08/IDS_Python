{
  "cells": [
    {
      "cell_type": "markdown",
      "metadata": {
        "id": "caGqVWWdWzEo"
      },
      "source": [
        "# 06. 통계적 추론"
      ]
    },
    {
      "cell_type": "markdown",
      "metadata": {
        "id": "UK7YTOVdW7Na"
      },
      "source": [
        "### T1. 데이터 읽어 오기"
      ]
    },
    {
      "cell_type": "code",
      "execution_count": null,
      "metadata": {
        "colab": {
          "base_uri": "https://localhost:8080/",
          "height": 235
        },
        "id": "SWTYCXNEmZDW",
        "outputId": "78edc784-8475-4123-d93f-3f3fe3e5d0b4"
      },
      "outputs": [
        {
          "data": {
            "text/html": [
              "<div>\n",
              "<style scoped>\n",
              "    .dataframe tbody tr th:only-of-type {\n",
              "        vertical-align: middle;\n",
              "    }\n",
              "\n",
              "    .dataframe tbody tr th {\n",
              "        vertical-align: top;\n",
              "    }\n",
              "\n",
              "    .dataframe thead th {\n",
              "        text-align: right;\n",
              "    }\n",
              "</style>\n",
              "<table border=\"1\" class=\"dataframe\">\n",
              "  <thead>\n",
              "    <tr style=\"text-align: right;\">\n",
              "      <th></th>\n",
              "      <th>extra</th>\n",
              "      <th>group</th>\n",
              "      <th>ID</th>\n",
              "    </tr>\n",
              "    <tr>\n",
              "      <th>no</th>\n",
              "      <th></th>\n",
              "      <th></th>\n",
              "      <th></th>\n",
              "    </tr>\n",
              "  </thead>\n",
              "  <tbody>\n",
              "    <tr>\n",
              "      <th>1</th>\n",
              "      <td>0.7</td>\n",
              "      <td>1</td>\n",
              "      <td>1</td>\n",
              "    </tr>\n",
              "    <tr>\n",
              "      <th>2</th>\n",
              "      <td>-1.6</td>\n",
              "      <td>1</td>\n",
              "      <td>2</td>\n",
              "    </tr>\n",
              "    <tr>\n",
              "      <th>3</th>\n",
              "      <td>-0.2</td>\n",
              "      <td>1</td>\n",
              "      <td>3</td>\n",
              "    </tr>\n",
              "    <tr>\n",
              "      <th>4</th>\n",
              "      <td>-1.2</td>\n",
              "      <td>1</td>\n",
              "      <td>4</td>\n",
              "    </tr>\n",
              "    <tr>\n",
              "      <th>5</th>\n",
              "      <td>-0.1</td>\n",
              "      <td>1</td>\n",
              "      <td>5</td>\n",
              "    </tr>\n",
              "  </tbody>\n",
              "</table>\n",
              "</div>"
            ],
            "text/plain": [
              "    extra  group  ID\n",
              "no                  \n",
              "1     0.7      1   1\n",
              "2    -1.6      1   2\n",
              "3    -0.2      1   3\n",
              "4    -1.2      1   4\n",
              "5    -0.1      1   5"
            ]
          },
          "execution_count": 3,
          "metadata": {
            "tags": []
          },
          "output_type": "execute_result"
        }
      ],
      "source": [
        "import pandas as pd\n",
        "\n",
        "sleeps = pd.read_csv('https://raw.githubusercontent.com/inetguru/IDS-CB35533/main/sleep.csv',index_col='no')\n",
        "sleeps.head()"
      ]
    },
    {
      "cell_type": "markdown",
      "metadata": {
        "id": "71jVaHcVXBsv"
      },
      "source": [
        "### T2. Simple Filtering in Panda's DataFrame"
      ]
    },
    {
      "cell_type": "code",
      "execution_count": null,
      "metadata": {
        "id": "9KL_3S74pi1G"
      },
      "outputs": [],
      "source": [
        "print(sleeps['extra'][sleeps['group']==1])\n",
        "print(sleeps['extra'][sleeps['group']==1].describe())"
      ]
    },
    {
      "cell_type": "markdown",
      "metadata": {
        "id": "IsQKyb7mXIoK"
      },
      "source": [
        "### T3. 기초 시각화"
      ]
    },
    {
      "cell_type": "code",
      "execution_count": null,
      "metadata": {
        "cellView": "form",
        "colab": {
          "base_uri": "https://localhost:8080/",
          "height": 497
        },
        "id": "nQ2zPoOitTIb",
        "outputId": "e4e5cad3-c420-42d8-fc69-ada927107cd4"
      },
      "outputs": [
        {
          "data": {
            "image/png": "[encoded data removed]",
            "text/plain": [
              "<Figure size 864x576 with 4 Axes>"
            ]
          },
          "metadata": {
            "needs_background": "light",
            "tags": []
          },
          "output_type": "display_data"
        }
      ],
      "source": [
        "#@title\n",
        "import matplotlib.pyplot as plt\n",
        "from scipy.stats import probplot\n",
        "Group1 = sleeps['extra'][sleeps['group']==1]\n",
        "\n",
        "plt.rcParams['figure.figsize'] = [12,8]\n",
        "fig = plt.figure()\n",
        "ax1 = fig.add_subplot(2,2,1)\n",
        "ax1.hist(Group1,bins=[-2,-1,0,1,2,3,4])\n",
        "\n",
        "ax2 = fig.add_subplot(2,2,2)\n",
        "ax2.boxplot(Group1)\n",
        "\n",
        "ax3 = fig.add_subplot(2,2,3)\n",
        "probplot(Group1, plot=ax3)\n",
        "\n",
        "ax4 = fig.add_subplot(2,2,4)\n",
        "from scipy.stats import gaussian_kde\n",
        "import numpy as np\n",
        "density = gaussian_kde(Group1)\n",
        "density.covariance_factor = lambda : .25\n",
        "density._compute_covariance()\n",
        "xs = np.linspace(-2,4,200)\n",
        "ax4.plot(xs,density(xs),'r:')\n",
        "ax4.hist(Group1, bins=[-2,-1,0,1,2,3,4], density=True)\n",
        "\n",
        "plt.show()"
      ]
    },
    {
      "cell_type": "markdown",
      "metadata": {
        "id": "264uNPo2X3o7"
      },
      "source": [
        "### T4. One sample $t$-test\n",
        "\n",
        "Colab의 scipy.stats version 문제로 ttest_1samp() 함수에서 alternative 인자 지원하지 않음. (default 값은 2-sided)\n",
        "'greater', 'less'와 같은 one-sided test를 위한 p-value는 2-sided ttest의 결과 p 값의 반으로 하면 됨 "
      ]
    },
    {
      "cell_type": "code",
      "execution_count": null,
      "metadata": {
        "colab": {
          "base_uri": "https://localhost:8080/"
        },
        "id": "dZs6je3yXRww",
        "outputId": "166db9a7-342c-4dad-e747-b7d58137f295"
      },
      "outputs": [
        {
          "name": "stdout",
          "output_type": "stream",
          "text": [
            "t-statistic : 1.3257101407138212, p-Value : 0.2175977800684489 / two-sided test\n",
            "p-value for an one-sided test is 0.10879889003422445\n"
          ]
        }
      ],
      "source": [
        "import scipy.stats as stat\n",
        "\n",
        "mu_in_H0 = 0\n",
        "sample = sleeps['extra'][sleeps['group']==1]\n",
        "result1 = stat.ttest_1samp(sample,mu_in_H0)\n",
        "print(f't-statistic : {result1.statistic}, p-Value : {result1.pvalue} / two-sided test')\n",
        "\n",
        "# 다음 코드는 Colab에서 에러를 발생시킴 \n",
        "#result2 = stat.ttest_1samp(sample,0, alternative = 'greater')\n",
        "#print(result2)\n",
        "\n",
        "print(f'p-value for an one-sided test is {result1.pvalue/2}')"
      ]
    },
    {
      "cell_type": "markdown",
      "metadata": {
        "id": "IrQ7JgLjZlwR"
      },
      "source": [
        "### T5. 함수를 이용하지 않고 $t$-statistic과 $p$-value, Confidence Interval을 직접 계산"
      ]
    },
    {
      "cell_type": "code",
      "execution_count": null,
      "metadata": {
        "colab": {
          "base_uri": "https://localhost:8080/"
        },
        "id": "6qpoqPz_1V3U",
        "outputId": "ff35f554-43bf-434e-fa9a-d5b1b910935d"
      },
      "outputs": [
        {
          "name": "stdout",
          "output_type": "stream",
          "text": [
            "t-statistic : 1.3257101407138212\n",
            "pvalue(!= 0) =0.21759778006844877\n",
            "pvalue(> 0) = 0.10879889003422438\n",
            "Lower : -0.5297804134938646\n",
            "Upper : 2.0297804134938646\n",
            "CI : [-0.52978041  2.02978041]\n"
          ]
        }
      ],
      "source": [
        "import numpy as np\n",
        "import scipy.stats as stats\n",
        "import math\n",
        "\n",
        "mu_in_H0 = 0\n",
        "sample = sleeps['extra'][sleeps['group']==1]\n",
        "t_stat = (sample.mean()-mu_in_H0)/math.sqrt(sample.var()/sample.count())\n",
        "print(f't-statistic : {t_stat}')\n",
        "\n",
        "df = sample.count()-1  #df : degree of freedom\n",
        "rv_t = stats.t(df)\n",
        "print(f'pvalue(!= 0) ={(1-rv_t.cdf(t_stat))*2}')\n",
        "print(f'pvalue(> 0) = {1-rv_t.cdf(t_stat)}')\n",
        "\n",
        "alpha = 0.05\n",
        "print(f'Lower : {sample.mean() - rv_t.ppf(1-alpha/2) * math.sqrt(sample.var()/sample.count())}')\n",
        "print(f'Upper : {sample.mean() + rv_t.ppf(1-alpha/2) * math.sqrt(sample.var()/sample.count())}')\n",
        "\n",
        "print(f'CI : {sample.mean() + np.array(rv_t.interval(0.95)) * math.sqrt(sample.var()/sample.count())}')"
      ]
    }
  ],
  "metadata": {
    "colab": {
      "name": "IDS - 06 Statistical Inference - Code.ipynb",
      "provenance": []
    },
    "kernelspec": {
      "display_name": "Python 3",
      "name": "python3"
    },
    "language_info": {
      "name": "python"
    }
  },
  "nbformat": 4,
  "nbformat_minor": 0
}
