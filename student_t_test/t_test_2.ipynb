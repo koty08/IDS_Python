{
  "cells": [
    {
      "cell_type": "markdown",
      "metadata": {
        "id": "UyH_2M6VNWC_"
      },
      "source": [
        "# Simple Hypothesis Testing using Simulation / $t$-test"
      ]
    },
    {
      "cell_type": "markdown",
      "metadata": {
        "id": "_3bBs8j_NeiU"
      },
      "source": [
        "##T1. Mind Reader\n",
        "Jin claims he can read minds. His friend Pedro asked him to guess a number he was thinking of between 1 and 7 (inclusive). Jin guessed Pedro's number correctly 4 out of 9 times.\n",
        "Let's test **the hypothesis that Jin cannot read minds and therefore has a chance of $\\dfrac{1}{7}$ of guessing the correct number each time** versus *the alternative that his chance is somehow greater*.\t\n",
        "\n",
        "* Complete the code below to perform **10000** simulations, each simulating **9** guesses with a chance of $\\dfrac{1}{7}$ being correct. \n",
        "\n",
        "* Analyze your simulation results and calculate the probability of having **4** or more correct guesses out of **9**. \n",
        "\n",
        "* Let's agree that if the observed outcome has a probability less than **1%** under the tested hypothesis, we will reject the hypothesis. What should you conclude regarding the hypothesis?\n",
        "\n",
        "---\n",
        "\n",
        "1% 미만으로 유의수준을 잡았을때, 결과가 2.96%로 진은 생각을 읽을 수 없다는 귀무가설을 기각할수 없다."
      ]
    },
    {
      "cell_type": "code",
      "execution_count": null,
      "metadata": {
        "colab": {
          "base_uri": "https://localhost:8080/"
        },
        "id": "GVNqrfm4NVQX",
        "outputId": "29a26835-f1f4-4506-cb78-214a442e6af0"
      },
      "outputs": [
        {
          "name": "stdout",
          "output_type": "stream",
          "text": [
            "0.0296\n"
          ]
        }
      ],
      "source": [
        "import numpy as np\n",
        "import scipy.stats as stat\n",
        "\n",
        "np.random.seed(seed=1000)\n",
        "\n",
        "n_simulations = 10000\n",
        "n_sample = 9\n",
        "p_correct = 1/7\n",
        "\n",
        "bin_rv = stat.binom(n_sample, p_correct)\n",
        "\n",
        "rvals = bin_rv.rvs(n_simulations)\n",
        "\n",
        "print(sum(rvals>=4)/n_simulations)"
      ]
    },
    {
      "cell_type": "markdown",
      "metadata": {
        "id": "Om7-oXNeYwmy"
      },
      "source": [
        "## T2. Foot Length\n",
        "\n",
        "Jun-Hwan found a report suggesting that teenagers' foot lengths are approximately normally distributed with a mean of $24\\text{ cm}$ and a standard deviation of $2.6\\text{ cm}$. Jun-Hwan wondered if this held true at his school, so he took a random sample of $n=9$ students. The mean foot length of students in his sample was $\\bar x=25.6\\text{ cm}$ \n",
        "\n",
        "You want to test $H_0 : \\mu = 24 \\text{ cm}$  vs.  $H_1 : \\mu > 24 \\text { cm}$ where $\\mu$ is the true mean of teenager's foot length.\n",
        "\n",
        "* Complete the code below to perform **10000** simulations, each simulating **9** lenghts from a normal population with a mean of $24 \\text{ cm}$ and standard deviation of $2.6 \\text{ cm}$. \n",
        "* Based on your simulated results, what is the approxiate $P$-value of the test ? Note the sample result was $\\bar x=25.6\\text{ cm}$\n",
        "* Consider 2 significance levels $\\alpha_1 = 0.05, \\alpha_2 = 0.01$ for the test\n",
        "\n",
        "---\n",
        "\n",
        "$P$-value = 0.0304 이고, 그러므로 $\\alpha_2$ 유의수준에서는 학생들의 발 길이의 평균이 24cm라는 귀무가설을 기각할수 없지만, $\\alpha_1$ 유의 수준에서는 귀무가설을 기각하고, 대립가설을 받아들일 수 있다."
      ]
    },
    {
      "cell_type": "code",
      "execution_count": null,
      "metadata": {
        "colab": {
          "base_uri": "https://localhost:8080/"
        },
        "id": "vx2pRL8UeebF",
        "outputId": "24842925-bdec-4739-fdd8-57e8e75039e5"
      },
      "outputs": [
        {
          "name": "stdout",
          "output_type": "stream",
          "text": [
            "0.0304\n"
          ]
        }
      ],
      "source": [
        "import numpy as np\n",
        "import scipy.stats as stat\n",
        "np.random.seed(seed=1000)\n",
        "\n",
        "n_simulations = 10000\n",
        "mu = 24\n",
        "sigma = 2.6\n",
        "n_sample = 9\n",
        "\n",
        "n_rv = stat.norm(mu, sigma)\n",
        "\n",
        "rvals_array = n_rv.rvs(n_simulations*n_sample).reshape(n_simulations, n_sample)\n",
        "\n",
        "xbars = rvals_array.mean(1)\n",
        "\n",
        "print(sum(xbars>=25.6)/n_simulations)"
      ]
    },
    {
      "cell_type": "markdown",
      "metadata": {
        "id": "ylDOmzwvhk89"
      },
      "source": [
        "## T3. One-sample $t$-test example - Energy Bar Test\n",
        "\n",
        "Imagine we have collected a random sample of **31** energy bars from a number of different stores to represent the population of energy bars available to the general consumer. The labels on the bars claim that each bar contains **20** grams of protein.\n",
        "\n",
        "You can find the actual protein contained in the collected energy bars in the variable -\"ebp_df\" in the code below (ebp stands for energy_bar_protein). It shows that some bars have less than 20 grams of protein. Other bars have more. \n",
        "\n",
        "You might think that the data support the idea that the labels are correct. Others might disagree. \n",
        "\n",
        "We decide to perform one-sample t-test to test the following hypotheses\n",
        "\n",
        "$H_0 : \\mu = 20 $  vs. $H_1 : \\mu \\ne 20 $  \n",
        "\n",
        "* What is the degrees of freedom of the sample ?\n",
        "* Calculate the $t$-statistic and the $P$-value of the sample by completing the code below\n",
        "* For 2 significance levels $\\alpha_1 = 0.05, \\alpha_2 = 0.01$ for the test, what should you conclude regarding the hypothesis?\n",
        "\n",
        "---\n",
        "\n",
        "자유도는 $n-1 = 30$이고, two-sided $P$-value의 값이 $0.0045$가 나왔으므로, $\\alpha_1,  \\alpha_2$ 두개의 유의수준 모두에서 에너지바의 프로틴 함량이 20그램이라는 귀무가설을 기각할 수 있고, 에너지바의 프로틴 함량이 20프로가 아니라는 대립가설을 받아들일 수 있다.\n"
      ]
    },
    {
      "cell_type": "code",
      "execution_count": null,
      "metadata": {
        "colab": {
          "base_uri": "https://localhost:8080/"
        },
        "id": "oSkgfeXrijCN",
        "outputId": "e6e09ae1-dd7a-41ac-fa37-e3174b878bcb"
      },
      "outputs": [
        {
          "name": "stdout",
          "output_type": "stream",
          "text": [
            "         protein\n",
            "count  31.000000\n",
            "mean   21.400000\n",
            "std     2.541669\n",
            "min    16.260000\n",
            "25%    19.865000\n",
            "50%    21.100000\n",
            "75%    22.385000\n",
            "max    27.460000\n",
            "protein    3.066832\n",
            "dtype: float64\n",
            "Ttest_1sampResult(statistic=array([3.06683164]), pvalue=array([0.00455262]))\n"
          ]
        }
      ],
      "source": [
        "import pandas as pd\n",
        "import scipy.stats as stat\n",
        "import math\n",
        "\n",
        "ebp_df = pd.DataFrame(data=[20.7, 27.46, 22.15, 19.85, 21.29, 24.75, 20.75, \n",
        "                               22.91, 25.34, 20.33, 21.54, 21.08, 22.14, 19.56, \n",
        "                               21.1, 18.04, 24.12, 19.95, 19.72, 18.28, 16.26, \n",
        "                               17.46, 20.53, 22.12, 25.06, 22.44, 19.08, 19.88, \n",
        "                               21.39, 22.33, 25.79], columns=['protein'])\n",
        "print(ebp_df.describe())\n",
        "\n",
        "sample = ebp_df\n",
        "t_stat = (sample.mean()-20)/math.sqrt(sample.var()/sample.count())\n",
        "print(t_stat)\n",
        "\n",
        "result1 = stat.ttest_1samp(ebp_df, 20)\n",
        "print(result1)"
      ]
    },
    {
      "cell_type": "markdown",
      "metadata": {
        "id": "J8o4uHWvxE3G"
      },
      "source": [
        "## T4. One-Sample $t$-test Example - Height Test\n",
        "\n",
        "According to [KOSIS(KOrean Statistical Information Service : 국가통계포털)](https://kosis.kr/statHtml/statHtml.do?orgId=350&tblId=DT_35007_N130), \n",
        "the mean height of Korean men aged 20-29 years is about 174.21 cm in 2019.\n",
        "\n",
        "We got a sample of heights from 21 male students from PNU which is shown in the code below. The sample mean is a little higher than the mean height of Korean men aged 20-29. Let's test if the mean height of students at PNU is significantly taller than 174.21 using the one-sample $t$ test. The null and alternative hypotheses of this test will be:\n",
        "\n",
        "$H_0 : \\mu = 174.21$ vs. $ H_1 : \\mu > 174.21 $\n",
        "\n",
        "* Calculate the $t$-statistic and the $P$-value of the sample by completing the code below\n",
        "* For 2 significance levels $\\alpha_1 = 0.1, \\alpha_2 = 0.05$ for the test, what should you conclude regarding the hypothesis?\n",
        "* Calculate confidence intervals for the mean height for 2 confidence levels 90% and 95%\n",
        "---\n",
        "\n",
        "$t-statistic = 1.5487, one-sided-P-value = 0.0685$이고, $\\alpha_1$ 유의수준에서 귀무가설을 기각하고 20대 남자 키의 평균이 174.21 이상이라는 대립 가설을 받아들일 수 있고, $\\alpha_2$ 에서는 20대 남자 키의평균이 174.21이라는 귀무가설을 기각할 수 없다.\n",
        "\n",
        "그리고, 수준 90프로의 신뢰구간은 171.307~177.112cm 이고, 수준 95프로의 신뢰구간은 170.751 ~ 177.668cm 였다."
      ]
    },
    {
      "cell_type": "code",
      "execution_count": null,
      "metadata": {
        "colab": {
          "base_uri": "https://localhost:8080/"
        },
        "id": "XIZRHNwv1VII",
        "outputId": "c9ad87ec-8e3e-40ec-c0cf-6eff6c5e33c4"
      },
      "outputs": [
        {
          "name": "stdout",
          "output_type": "stream",
          "text": [
            "           height\n",
            "count   21.000000\n",
            "mean   176.942857\n",
            "std      8.086076\n",
            "min    164.730000\n",
            "25%    169.020000\n",
            "50%    176.750000\n",
            "75%    182.540000\n",
            "max    190.100000\n",
            "Ttest_1sampResult(statistic=array([1.54877645]), pvalue=array([0.13711478]))\n",
            "[0.06855739]\n",
            "\n",
            "90% : 171.30735385699532cm ~ 177.1126461430047cm\n",
            "95% : 170.75152799982422cm ~ 177.6684720001758cm\n"
          ]
        }
      ],
      "source": [
        "import pandas as pd\n",
        "import scipy.stats as stat\n",
        "import math\n",
        "\n",
        "mu = 174.21\n",
        "\n",
        "sample_df = pd.DataFrame(data=[180.32, 178.71, 168.59, 176.30, 169.02,\n",
        " 168.76, 187.58, 188.54, 173.90, 177.67, 182.54, 178.34, 189.83, 171.16, \n",
        " 190.10, 176.75, 166.24, 175.25, 184.69, 164.73, 166.78], columns=['height'])\n",
        "\n",
        "print(sample_df.describe())\n",
        "\n",
        "result = stat.ttest_1samp(sample_df, mu)\n",
        "print(result)\n",
        "print(result.pvalue/2)\n",
        "\n",
        "print()\n",
        "print(\"90% : {}cm ~ {}cm\".format(float(mu-(1.645*sample_df.std()/math.sqrt(sample_df.count()))), float(mu+(1.645*sample_df.std()/math.sqrt(sample_df.count())))))\n",
        "print(\"95% : {}cm ~ {}cm\".format(float(mu-(1.96*sample_df.std()/math.sqrt(sample_df.count()))), float(mu+(1.96*sample_df.std()/math.sqrt(sample_df.count())))))"
      ]
    }
  ],
  "metadata": {
    "colab": {
      "collapsed_sections": [],
      "name": "고태영 - IDS HW 05-2.ipynb",
      "provenance": []
    },
    "kernelspec": {
      "display_name": "Python 3",
      "name": "python3"
    },
    "language_info": {
      "name": "python"
    }
  },
  "nbformat": 4,
  "nbformat_minor": 0
}
