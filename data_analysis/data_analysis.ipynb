{
  "nbformat": 4,
  "nbformat_minor": 0,
  "metadata": {
    "colab": {
      "name": "고태영 - HW02.ipynb",
      "provenance": [],
      "toc_visible": true
    },
    "kernelspec": {
      "name": "python3",
      "display_name": "Python 3"
    }
  },
  "cells": [
    {
      "cell_type": "markdown",
      "metadata": {
        "id": "EzRfRrkMU7qi"
      },
      "source": [
        "#T1. Finding Key Connectors\n",
        "*   Create a **dict** where the keys are user ```id```s and the values are lists of friend ```id```s.\n",
        "\n",
        "* HW02 수행을 위한 dataset을 사용하려면 아래 있는 **is_hw_data_set**을 선택하세요.(Check **is_hw_data_set** check box below to use data sets for the HW 02.)"
      ]
    },
    {
      "cell_type": "code",
      "metadata": {
        "id": "xgc4cy76A0Ni",
        "colab": {
          "base_uri": "https://localhost:8080/"
        },
        "outputId": "add3d600-0981-475b-db62-60f2a0fad7d9"
      },
      "source": [
        "is_hw_data_set = True #@param {type:\"boolean\"}\n",
        "users = [\n",
        "    { \"id\": 0, \"name\": \"Hero\" },\n",
        "    { \"id\": 1, \"name\": \"Dunn\" },\n",
        "    { \"id\": 2, \"name\": \"Sue\" },\n",
        "    { \"id\": 3, \"name\": \"Chi\" },\n",
        "    { \"id\": 4, \"name\": \"Thor\" },\n",
        "    { \"id\": 5, \"name\": \"Clive\" },\n",
        "    { \"id\": 6, \"name\": \"Hicks\" },\n",
        "    { \"id\": 7, \"name\": \"Devin\" },\n",
        "    { \"id\": 8, \"name\": \"Kate\" },\n",
        "    { \"id\": 9, \"name\": \"Klein\" }\n",
        "]\n",
        "\n",
        "if is_hw_data_set :\n",
        "  friendship_pairs = [(0, 1), (0, 2), (0, 4), (1, 2), (1, 3), (1, 9),\n",
        "                    (2, 3), (2, 7), (3, 4), (3, 5), (4, 6), (5, 6), \n",
        "                    (5, 7), (6,7), (6, 8), (6, 9), (7, 8), (8, 9)]\n",
        "else :\n",
        "  friendship_pairs = [(0, 1), (0, 2), (1, 2), (1, 3), \n",
        "                    (2, 3), (3, 4), (4, 5), (5, 6), \n",
        "                    (5, 7), (6, 8), (7, 8), (8, 9)]\n",
        "\n",
        "# Initialize the dict with an empty list for each user id:\n",
        "friendships = {user[\"id\"]: [] for user in users}\n",
        "\n",
        "# And loop over the friendship pairs to populate it:\n",
        "for i, j in friendship_pairs:\n",
        "    friendships[i].append(j)  # Add j as a friend of user i\n",
        "    friendships[j].append(i)  # Add i as a friend of user j\n",
        "\n",
        "print(friendships[7])"
      ],
      "execution_count": null,
      "outputs": [
        {
          "output_type": "stream",
          "text": [
            "[2, 5, 6, 8]\n"
          ],
          "name": "stdout"
        }
      ]
    },
    {
      "cell_type": "markdown",
      "metadata": {
        "id": "Ri3sUBGLVyIk"
      },
      "source": [
        "* Make a function that counts the number of friends of a user"
      ]
    },
    {
      "cell_type": "code",
      "metadata": {
        "id": "3qzttv26Nar8",
        "colab": {
          "base_uri": "https://localhost:8080/"
        },
        "outputId": "13dc5864-19a3-4b50-ff7d-6e54962b340a"
      },
      "source": [
        "def number_of_friends(user):\n",
        "    \"\"\"How many friends does _user_ have?\"\"\"\n",
        "    user_id = user[\"id\"]\n",
        "    friend_ids = friendships[user_id]\n",
        "    return len(friend_ids)\n",
        "\n",
        "for user in users :\n",
        " print(f'{user[\"name\"]} has {number_of_friends(user)} friends')"
      ],
      "execution_count": null,
      "outputs": [
        {
          "output_type": "stream",
          "text": [
            "Hero has 3 friends\n",
            "Dunn has 4 friends\n",
            "Sue has 4 friends\n",
            "Chi has 4 friends\n",
            "Thor has 3 friends\n",
            "Clive has 3 friends\n",
            "Hicks has 5 friends\n",
            "Devin has 4 friends\n",
            "Kate has 3 friends\n",
            "Klein has 3 friends\n"
          ],
          "name": "stdout"
        }
      ]
    },
    {
      "cell_type": "code",
      "metadata": {
        "id": "V2JdqDf3Pxuk",
        "colab": {
          "base_uri": "https://localhost:8080/"
        },
        "outputId": "3a8931e3-e121-46b6-e304-96aaa84ed4c8"
      },
      "source": [
        "total_connections = sum(number_of_friends(user)\n",
        "                        for user in users)        # 24\n",
        "num_users = len(users)                            # length of the users list\n",
        "avg_connections = total_connections / num_users   # 24 / 10 == 2.4\n",
        "\n",
        "print(f'Average number of friends is {avg_connections}')"
      ],
      "execution_count": null,
      "outputs": [
        {
          "output_type": "stream",
          "text": [
            "Average number of friends is 3.6\n"
          ],
          "name": "stdout"
        }
      ]
    },
    {
      "cell_type": "markdown",
      "metadata": {
        "id": "2wSEQFvMWTwQ"
      },
      "source": [
        "* Sort according to *Degree Centrality*"
      ]
    },
    {
      "cell_type": "code",
      "metadata": {
        "id": "daDfbVX0QJ11",
        "colab": {
          "base_uri": "https://localhost:8080/"
        },
        "outputId": "90e1e592-9530-4fe2-d43b-090130b98d38"
      },
      "source": [
        "# Create a list (user_id, number_of_friends).\n",
        "num_friends_by_id = [(user[\"id\"], number_of_friends(user))\n",
        "                     for user in users]\n",
        "\n",
        "num_friends_by_id.sort(                                # Sort the list\n",
        "       key=lambda id_and_friends: id_and_friends[1],   # by num_friends\n",
        "       reverse=True)                                   # largest to smallest\n",
        "\n",
        "print(num_friends_by_id)"
      ],
      "execution_count": null,
      "outputs": [
        {
          "output_type": "stream",
          "text": [
            "[(6, 5), (1, 4), (2, 4), (3, 4), (7, 4), (0, 3), (4, 3), (5, 3), (8, 3), (9, 3)]\n"
          ],
          "name": "stdout"
        }
      ]
    },
    {
      "cell_type": "markdown",
      "metadata": {
        "id": "Pj7GDUBHW0Zw"
      },
      "source": [
        "#T2. Data Scientists You May Know\n",
        "\n",
        "* Collect the friends' friends : some are included more than once"
      ]
    },
    {
      "cell_type": "code",
      "metadata": {
        "id": "MY_YX1cYW8-_",
        "colab": {
          "base_uri": "https://localhost:8080/"
        },
        "outputId": "036d70dd-8aa9-4afd-977d-c2cefee0b857"
      },
      "source": [
        "def foaf_ids_bad(user):\n",
        "    \"\"\"foaf is short for \"friend of a friend\" \"\"\"\n",
        "    return [foaf_id\n",
        "            for friend_id in friendships[user[\"id\"]]\n",
        "            for foaf_id in friendships[friend_id]]\n",
        "\n",
        "print(f'Friends of users[0]\\'s friend : {foaf_ids_bad(users[0])}')\n",
        "\n",
        "#print(f'Friends of users[0] : {friendships[0]}')  # [1, 2]\n",
        "#print(f'Friends of users[1] : {friendships[1]}')  # [0, 2, 3]\n",
        "#print(f'Friends of users[2] : {friendships[2]}')  # [0, 1, 3]"
      ],
      "execution_count": null,
      "outputs": [
        {
          "output_type": "stream",
          "text": [
            "Friends of users[0]'s friend : [0, 2, 3, 9, 0, 1, 3, 7, 0, 3, 6]\n"
          ],
          "name": "stdout"
        }
      ]
    },
    {
      "cell_type": "markdown",
      "metadata": {
        "id": "Kiq5p5ZNYFsB"
      },
      "source": [
        "* Counting **Mutual Friends**\n",
        "> Ex) friends_of_friends(users[3]) => Counter({(0: 2, 5: 1}) \n",
        "indicates that users[3] has 2 mutual friends with users[0] but only one mutual friend with users[5]."
      ]
    },
    {
      "cell_type": "code",
      "metadata": {
        "colab": {
          "base_uri": "https://localhost:8080/"
        },
        "id": "pdbNPjKQaFm0",
        "outputId": "5ccdba89-128c-4b9d-f7a5-76adab08424c"
      },
      "source": [
        "from collections import Counter                   # not loaded by default\n",
        "\n",
        "def friends_of_friends(user):\n",
        "    user_id = user[\"id\"]\n",
        "    return Counter(\n",
        "        foaf_id\n",
        "        for friend_id in friendships[user_id]     # For each of my friends,\n",
        "        for foaf_id in friendships[friend_id]     # find their friends\n",
        "        if foaf_id != user_id                     # who aren't me\n",
        "        and foaf_id not in friendships[user_id]   # and aren't my friends.\n",
        "    )\n",
        "\n",
        "\n",
        "print(friends_of_friends(users[3]))               # Counter({0: 2, 5: 1})"
      ],
      "execution_count": null,
      "outputs": [
        {
          "output_type": "stream",
          "text": [
            "Counter({0: 3, 7: 2, 6: 2, 9: 1})\n"
          ],
          "name": "stdout"
        }
      ]
    },
    {
      "cell_type": "markdown",
      "metadata": {
        "id": "qfsBO5R6a9sS"
      },
      "source": [
        "* **Mutual Interests**"
      ]
    },
    {
      "cell_type": "code",
      "metadata": {
        "id": "eSHezejPa4_C"
      },
      "source": [
        "if is_hw_data_set :\n",
        "  interests = [\n",
        "      (0, \"Hadoop\"), (0, \"Big Data\"), (0, \"HBase\"), (0, \"Java\"), (0, \"R\"),\n",
        "      (1, \"NoSQL\"), (1, \"MongoDB\"), (1, \"Cassandra\"), (1, \"HBase\"),\n",
        "      (1, \"Postgres\"), (2, \"Python\"), (2, \"scikit-learn\"), (2, \"scipy\"),\n",
        "      (2, \"numpy\"), (2, \"statsmodels\"), (2, \"pandas\"), (3, \"R\"), (3, \"Python\"),\n",
        "      (3, \"statistics\"), (3, \"regression\"), (3, \"probability\"),\n",
        "      (3, \"Spark\"), (3, \"Storm\"), (3, \"Cassandra\"),\n",
        "      (4, \"machine learning\"), (4, \"regression\"), (4, \"decision trees\"),\n",
        "      (4, \"libsvm\"), (5, \"Python\"), (5, \"R\"), (5, \"Java\"), (5, \"C++\"),\n",
        "      (5, \"Haskell\"), (5, \"programming languages\"), (5, \"Cassandra\"), (6, \"statistics\"),\n",
        "      (6, \"probability\"), (6, \"mathematics\"), (6, \"theory\"),\n",
        "      (7, \"machine learning\"), (7, \"scikit-learn\"), (7, \"Mahout\"),\n",
        "      (7, \"neural networks\"), (8, \"neural networks\"), (8, \"deep learning\"),\n",
        "      (8, \"Big Data\"), (8, \"artificial intelligence\"), (9, \"Hadoop\"),\n",
        "      (9, \"Java\"), (9, \"MapReduce\"), (9, \"Big Data\")\n",
        "  ]\n",
        "else :\n",
        "  interests = [\n",
        "      (0, \"Hadoop\"), (0, \"Big Data\"), (0, \"HBase\"), (0, \"Java\"),\n",
        "      (0, \"Spark\"), (0, \"Storm\"), (0, \"Cassandra\"),\n",
        "      (1, \"NoSQL\"), (1, \"MongoDB\"), (1, \"Cassandra\"), (1, \"HBase\"),\n",
        "      (1, \"Postgres\"), (2, \"Python\"), (2, \"scikit-learn\"), (2, \"scipy\"),\n",
        "      (2, \"numpy\"), (2, \"statsmodels\"), (2, \"pandas\"), (3, \"R\"), (3, \"Python\"),\n",
        "      (3, \"statistics\"), (3, \"regression\"), (3, \"probability\"),\n",
        "      (4, \"machine learning\"), (4, \"regression\"), (4, \"decision trees\"),\n",
        "      (4, \"libsvm\"), (5, \"Python\"), (5, \"R\"), (5, \"Java\"), (5, \"C++\"),\n",
        "      (5, \"Haskell\"), (5, \"programming languages\"), (6, \"statistics\"),\n",
        "      (6, \"probability\"), (6, \"mathematics\"), (6, \"theory\"),\n",
        "      (7, \"machine learning\"), (7, \"scikit-learn\"), (7, \"Mahout\"),\n",
        "      (7, \"neural networks\"), (8, \"neural networks\"), (8, \"deep learning\"),\n",
        "      (8, \"Big Data\"), (8, \"artificial intelligence\"), (9, \"Hadoop\"),\n",
        "      (9, \"Java\"), (9, \"MapReduce\"), (9, \"Big Data\")\n",
        "  ]"
      ],
      "execution_count": null,
      "outputs": []
    },
    {
      "cell_type": "markdown",
      "metadata": {
        "id": "ZCANa1CUbUwp"
      },
      "source": [
        "Build a function that finds users with a certain interest\n",
        "\n",
        "This works, but it has to examine the whole list of interests for every search. If we have a lot of users and interests (or if we just want to do a lot of searches), we’re probably better off building an index from interests to users:"
      ]
    },
    {
      "cell_type": "code",
      "metadata": {
        "id": "rp3oy0lNbLxV"
      },
      "source": [
        "def data_scientists_who_like(target_interest):\n",
        "    \"\"\"Find the ids of all users who like the target interest.\"\"\"\n",
        "    return [user_id\n",
        "            for user_id, user_interest in interests\n",
        "            if user_interest == target_interest]"
      ],
      "execution_count": null,
      "outputs": []
    },
    {
      "cell_type": "code",
      "metadata": {
        "id": "Cevto_0ibrxC",
        "colab": {
          "base_uri": "https://localhost:8080/"
        },
        "outputId": "ef95892e-6714-4825-eb3f-e130709dd32a"
      },
      "source": [
        "from collections import defaultdict\n",
        "\n",
        "# Keys are interests, values are lists of user_ids with that interest\n",
        "user_ids_by_interest = defaultdict(list)\n",
        "\n",
        "for user_id, interest in interests:\n",
        "    user_ids_by_interest[interest].append(user_id)\n",
        "  \n",
        "# Keys are user_ids, values are lists of interests for that user_id.\n",
        "interests_by_user_id = defaultdict(list)\n",
        "\n",
        "for user_id, interest in interests:\n",
        "    interests_by_user_id[user_id].append(interest)\n",
        "\n",
        "def most_common_interests_with(user):\n",
        "    return Counter(\n",
        "        interested_user_id\n",
        "        for interest in interests_by_user_id[user[\"id\"]]\n",
        "        for interested_user_id in user_ids_by_interest[interest]\n",
        "        if interested_user_id != user[\"id\"]\n",
        "    )\n",
        "print(f'Users having common interests with Chi (id 3) are {most_common_interests_with(users[3])}')"
      ],
      "execution_count": null,
      "outputs": [
        {
          "output_type": "stream",
          "text": [
            "Users having common interests with Chi (id 3) are Counter({5: 3, 6: 2, 0: 1, 2: 1, 4: 1, 1: 1})\n"
          ],
          "name": "stdout"
        }
      ]
    },
    {
      "cell_type": "markdown",
      "metadata": {
        "id": "PcJmtzQGfrES"
      },
      "source": [
        "# T3. Salaries and Experience"
      ]
    },
    {
      "cell_type": "code",
      "metadata": {
        "id": "lHBvDwyZfum4",
        "colab": {
          "base_uri": "https://localhost:8080/",
          "height": 295
        },
        "outputId": "fe68ddfe-fd4e-400d-c496-ab9b86d98cac"
      },
      "source": [
        "if is_hw_data_set :\n",
        "  salaries_and_tenures = [(83000, 8.7), (88000, 8.1),\n",
        "                          (48000, 0.7), (76000, 6),\n",
        "                          (69000, 6.5), (76000, 7.5),\n",
        "                          (92000, 9.5), (55000, 2.3),\n",
        "                          (59000, 3.5), (63000, 4.5),\n",
        "                          (60000, 2.5), (83000, 10),\n",
        "                          (48000, 1.9), (63000, 4.2)]\n",
        "else :\n",
        "  salaries_and_tenures = [(83000, 8.7), (88000, 8.1),\n",
        "                          (48000, 0.7), (76000, 6),\n",
        "                          (69000, 6.5), (76000, 7.5),\n",
        "                          (60000, 2.5), (83000, 10),\n",
        "                          (48000, 1.9), (63000, 4.2)]\n",
        "\n",
        "from matplotlib import pyplot as plt\n",
        "\n",
        "plt.scatter([tenure for salary,tenure in salaries_and_tenures ], [salary for salary,tenure in salaries_and_tenures ])\n",
        "plt.title('Salary by Years Experience')\n",
        "plt.xlabel('Years Experience')\n",
        "plt.ylabel('Salary')\n",
        "plt.show()"
      ],
      "execution_count": null,
      "outputs": [
        {
          "output_type": "display_data",
          "data": {
            "image/png": "[encoded data removed]",
            "text/plain": [
              "<Figure size 432x288 with 1 Axes>"
            ]
          },
          "metadata": {
            "tags": [],
            "needs_background": "light"
          }
        }
      ]
    },
    {
      "cell_type": "markdown",
      "metadata": {
        "id": "2123W7aLmxVv"
      },
      "source": [
        "* The average salary for each tenure"
      ]
    },
    {
      "cell_type": "code",
      "metadata": {
        "id": "eWFADE_-m96A",
        "colab": {
          "base_uri": "https://localhost:8080/"
        },
        "outputId": "5e7503b1-65d4-42f5-e1ed-a32a34f105fa"
      },
      "source": [
        "# Keys are years, values are lists of the salaries for each tenure.\n",
        "salary_by_tenure = defaultdict(list)\n",
        "\n",
        "for salary, tenure in salaries_and_tenures:\n",
        "    salary_by_tenure[tenure].append(salary)\n",
        "\n",
        "# Keys are years, each value is average salary for that tenure.\n",
        "average_salary_by_tenure = {\n",
        "    tenure: sum(salaries) / len(salaries)\n",
        "    for tenure, salaries in salary_by_tenure.items()\n",
        "}\n",
        "print(sorted(average_salary_by_tenure.items(), key=lambda x:x[0]))\n",
        "for t in sorted(average_salary_by_tenure.items(), key=lambda x:x[0]) :\n",
        "  print(f'{t[0]} : {t[1]}')"
      ],
      "execution_count": null,
      "outputs": [
        {
          "output_type": "stream",
          "text": [
            "[(0.7, 48000.0), (1.9, 48000.0), (2.3, 55000.0), (2.5, 60000.0), (3.5, 59000.0), (4.2, 63000.0), (4.5, 63000.0), (6, 76000.0), (6.5, 69000.0), (7.5, 76000.0), (8.1, 88000.0), (8.7, 83000.0), (9.5, 92000.0), (10, 83000.0)]\n",
            "0.7 : 48000.0\n",
            "1.9 : 48000.0\n",
            "2.3 : 55000.0\n",
            "2.5 : 60000.0\n",
            "3.5 : 59000.0\n",
            "4.2 : 63000.0\n",
            "4.5 : 63000.0\n",
            "6 : 76000.0\n",
            "6.5 : 69000.0\n",
            "7.5 : 76000.0\n",
            "8.1 : 88000.0\n",
            "8.7 : 83000.0\n",
            "9.5 : 92000.0\n",
            "10 : 83000.0\n"
          ],
          "name": "stdout"
        }
      ]
    },
    {
      "cell_type": "markdown",
      "metadata": {
        "id": "kc6nTCZlm3lD"
      },
      "source": [
        "* Bucket the tenures"
      ]
    },
    {
      "cell_type": "code",
      "metadata": {
        "colab": {
          "base_uri": "https://localhost:8080/"
        },
        "id": "dP72J3RnpPh1",
        "outputId": "9a7fa103-551f-4f79-d5b2-3cecf7d9a954"
      },
      "source": [
        "def tenure_bucket(tenure):\n",
        "    if tenure < 2:\n",
        "        return \"less than two\"\n",
        "    elif tenure < 5:\n",
        "        return \"between two and five\"\n",
        "    else:\n",
        "        return \"more than five\"\n",
        "\n",
        "# Keys are tenure buckets, values are lists of salaries for that bucket.\n",
        "salary_by_tenure_bucket = defaultdict(list)\n",
        "\n",
        "for salary, tenure in salaries_and_tenures:\n",
        "    bucket = tenure_bucket(tenure)\n",
        "    salary_by_tenure_bucket[bucket].append(salary)\n",
        "\n",
        "# Keys are tenure buckets, values are average salary for that bucket.\n",
        "average_salary_by_bucket = {\n",
        "  tenure_bucket: sum(salaries) / len(salaries)\n",
        "  for tenure_bucket, salaries in salary_by_tenure_bucket.items()\n",
        "}\n",
        "\n",
        "print(average_salary_by_bucket)"
      ],
      "execution_count": null,
      "outputs": [
        {
          "output_type": "stream",
          "text": [
            "{'more than five': 81000.0, 'less than two': 48000.0, 'between two and five': 60000.0}\n"
          ],
          "name": "stdout"
        }
      ]
    },
    {
      "cell_type": "markdown",
      "metadata": {
        "id": "cuS6Qh4dsSl8"
      },
      "source": [
        "# T4. Paid Accounts"
      ]
    },
    {
      "cell_type": "code",
      "metadata": {
        "id": "gfPFPcj9sYEC"
      },
      "source": [
        "def predict_paid_or_unpaid(years_experience):\n",
        "  if years_experience < 3.0:\n",
        "    return \"paid\"\n",
        "  elif years_experience < 8.5:\n",
        "    return \"unpaid\"\n",
        "  else:\n",
        "    return \"paid\""
      ],
      "execution_count": null,
      "outputs": []
    },
    {
      "cell_type": "markdown",
      "metadata": {
        "id": "9-vmWTxXsga2"
      },
      "source": [
        "# T5. Topics of Interest"
      ]
    },
    {
      "cell_type": "code",
      "metadata": {
        "colab": {
          "base_uri": "https://localhost:8080/"
        },
        "id": "sQ_zsRrQsknN",
        "outputId": "a004e6cb-28f1-4244-818c-ba8384f6177d"
      },
      "source": [
        "words_and_counts = Counter(word\n",
        "                           for user, interest in interests\n",
        "                           for word in interest.lower().split())\n",
        "for word, count in words_and_counts.most_common():\n",
        "    if count > 1:\n",
        "        print(word, count)"
      ],
      "execution_count": null,
      "outputs": [
        {
          "output_type": "stream",
          "text": [
            "big 3\n",
            "data 3\n",
            "java 3\n",
            "r 3\n",
            "cassandra 3\n",
            "python 3\n",
            "learning 3\n",
            "hadoop 2\n",
            "hbase 2\n",
            "scikit-learn 2\n",
            "statistics 2\n",
            "regression 2\n",
            "probability 2\n",
            "machine 2\n",
            "neural 2\n",
            "networks 2\n"
          ],
          "name": "stdout"
        }
      ]
    }
  ]
}