{
  "cells": [
    {
      "cell_type": "code",
      "execution_count": null,
      "metadata": {
        "colab": {
          "base_uri": "https://localhost:8080/"
        },
        "id": "ZZcIgFSqG5Uw",
        "outputId": "81947c44-2a8d-41c4-f4e7-a38ebb029f4a"
      },
      "outputs": [
        {
          "name": "stdout",
          "output_type": "stream",
          "text": [
            "-202.8237181361084 [8.42629323 1.40835103]\n",
            "[195.01332869]\n",
            "0.4890345591616515\n",
            "AGE : 0.4855490523808105\n",
            "SEX : 0.4996251914830552\n",
            "S1 : 0.4904422013213202\n",
            "S2 : 0.4890347275690837\n",
            "S3 : 0.47150563225915687\n",
            "S4 : 0.49567295928553756\n",
            "S5 : 0.5997841207001899\n",
            "S6 : 0.44905656862056964\n"
          ]
        }
      ],
      "source": [
        "import numpy as np\n",
        "import pandas as pd\n",
        "from sklearn import linear_model\n",
        "from sklearn import metrics\n",
        "import seaborn as sn\n",
        "import matplotlib.pyplot as plt\n",
        "\n",
        "data = pd.read_csv('https://raw.githubusercontent.com/inetguru/IDS-CB35533/main/diabetes.csv')\n",
        "\n",
        "train_data = data[:420]\n",
        "test_data = data[421:442]\n",
        "\n",
        "# Set predictors and target\n",
        "# predictors = ['BMI']\n",
        "# predictors = ['BP']\n",
        "predictors = ['BMI', 'BP']\n",
        "target = 'Y'\n",
        "# Generate a model instance for linear regression\n",
        "X_train = train_data[predictors]\n",
        "y_train = train_data[target]\n",
        "X_test = test_data[predictors]\n",
        "y_test = test_data[target]\n",
        "\n",
        "model = linear_model.LinearRegression()\n",
        "# Perform Fit/Train, Check/print out the coefficients of your model\n",
        "model.fit(X_train, y_train)\n",
        "print(model.intercept_, model.coef_)\n",
        "# Evaluate the model using the test data, Get r2 score.\n",
        "# print(model.predict([[30.5]]))\n",
        "print(model.predict([[30.5, 100.0]]))\n",
        "print(metrics.r2_score(y_test, model.predict(X_test)))\n",
        "\n",
        "# 4.\n",
        "for predictor in data.columns:\n",
        "  if (predictor not in predictors and predictor != target):\n",
        "    predictors.append(predictor)\n",
        "    X_train = train_data[predictors]\n",
        "    y_train = train_data[target]\n",
        "    X_test = test_data[predictors]\n",
        "    y_test = test_data[target]\n",
        "    model = linear_model.LinearRegression().fit(X_train, y_train)\n",
        "    print(predictor, \":\", metrics.r2_score(y_test, model.predict(X_test)))\n",
        "    predictors.pop()"
      ]
    },
    {
      "cell_type": "markdown",
      "metadata": {
        "id": "O4QakGRWIkdv"
      },
      "source": [
        "\n",
        "For the given dataset in the following code, perform a logistic regression."
      ]
    },
    {
      "cell_type": "code",
      "execution_count": null,
      "metadata": {
        "colab": {
          "base_uri": "https://localhost:8080/",
          "height": 579
        },
        "id": "9iu5cUKKIxSn",
        "outputId": "aa75e24b-c11b-413b-e1b9-e32899d1fa99"
      },
      "outputs": [
        {
          "name": "stdout",
          "output_type": "stream",
          "text": [
            "Pregnancies : 0.6688311688311688\n",
            "Glucose : 0.7597402597402597\n",
            "[-5.51983416] [[0.03903946]]\n",
            "BloodPressure : 0.6428571428571429\n",
            "SkinThickness : 0.6428571428571429\n",
            "Insulin : 0.6428571428571429\n",
            "BMI : 0.6688311688311688\n",
            "DiabetesPedigreeFunction : 0.6753246753246753\n",
            "Age : 0.6493506493506493\n",
            "\n",
            "[1]\n"
          ]
        },
        {
          "data": {
            "image/png": "[encoded data removed]",
            "text/plain": [
              "<Figure size 432x288 with 2 Axes>"
            ]
          },
          "metadata": {
            "needs_background": "light",
            "tags": []
          },
          "output_type": "display_data"
        },
        {
          "name": "stdout",
          "output_type": "stream",
          "text": [
            "0.7272727272727273\n",
            "BloodPressure : 0.7402597402597403\n",
            "SkinThickness : 0.7467532467532467\n",
            "BMI : 0.7597402597402597\n",
            "DiabetesPedigreeFunction : 0.7467532467532467\n",
            "Age : 0.7272727272727273\n"
          ]
        }
      ],
      "source": [
        "import numpy as np\n",
        "import pandas as pd\n",
        "from sklearn import linear_model\n",
        "from sklearn import metrics\n",
        "from sklearn.model_selection import train_test_split\n",
        "import seaborn as sn\n",
        "import matplotlib.pyplot as plt\n",
        "\n",
        "data = pd.read_csv('https://raw.githubusercontent.com/inetguru/IDS-CB35533/main/pima_diabetes.csv')\n",
        "\n",
        "train_data, test_data = train_test_split(data, train_size=0.8, random_state=1)\n",
        "\n",
        "predictors = []\n",
        "target = 'Outcome'\n",
        "#1.\n",
        "for pred in data.columns:\n",
        "  if(pred != target):\n",
        "    predictors.append(pred)\n",
        "    X_train = train_data[predictors]\n",
        "    y_train = train_data[target]\n",
        "    X_test = test_data[predictors]\n",
        "    y_test = test_data[target]\n",
        "    model = linear_model.LogisticRegression().fit(X_train, y_train)\n",
        "    print(pred, \":\", metrics.accuracy_score(y_test, model.predict(X_test)))\n",
        "    if(pred == 'Glucose'):\n",
        "      print(model.intercept_, model.coef_)\n",
        "    predictors.pop()\n",
        " \n",
        "print()\n",
        "#2.\n",
        "predictors = ['Pregnancies', 'Glucose', 'Insulin']\n",
        "X_train = train_data[predictors]\n",
        "y_train = train_data[target]\n",
        "X_test = test_data[predictors]\n",
        "y_test = test_data[target]\n",
        "model = linear_model.LogisticRegression().fit(X_train, y_train)\n",
        "print(model.predict([[10, 150, 10]]))\n",
        "\n",
        "cf_matrix = pd.crosstab(y_test, model.predict(X_test))\n",
        "sn.heatmap(cf_matrix, annot=True)\n",
        "plt.show()\n",
        "print(metrics.accuracy_score(y_test, model.predict(X_test)))\n",
        "\n",
        "print()\n",
        "#3.\n",
        "for predictor in data.columns:\n",
        "  if (predictor not in predictors and predictor != target):\n",
        "    predictors.append(predictor)\n",
        "    X_train = train_data[predictors]\n",
        "    y_train = train_data[target]\n",
        "    X_test = test_data[predictors]\n",
        "    y_test = test_data[target]\n",
        "    model = linear_model.LogisticRegression().fit(X_train, y_train)\n",
        "    print(predictor, \":\", metrics.accuracy_score(y_test, model.predict(X_test)))\n",
        "    predictors.pop()"
      ]
    }
  ],
  "metadata": {
    "colab": {
      "collapsed_sections": [],
      "name": "HW13.ipynb의 사본",
      "provenance": []
    },
    "kernelspec": {
      "display_name": "Python 3",
      "name": "python3"
    },
    "language_info": {
      "name": "python"
    }
  },
  "nbformat": 4,
  "nbformat_minor": 0
}
